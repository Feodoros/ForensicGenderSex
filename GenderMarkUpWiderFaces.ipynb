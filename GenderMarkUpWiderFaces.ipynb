{
 "cells": [
  {
   "cell_type": "markdown",
   "id": "ordinary-damages",
   "metadata": {},
   "source": [
    "# Marking up [WiderFace](http://shuoyang1213.me/WIDERFACE/) dataset by gender"
   ]
  },
  {
   "cell_type": "markdown",
   "id": "adapted-grill",
   "metadata": {},
   "source": [
    "We have all WiderFace **images** and some .mat files with **metadata** of these images. We need to **mark up these images by gender**. We should do these next **steps**: \n",
    "1. **Separate** easy-scale images to individual folder\n",
    "2. **Mark up** these easy-scale images by gender\n",
    "3. **Crop** faces from these images\n",
    "4. **Create** file: face, gender"
   ]
  },
  {
   "cell_type": "code",
   "execution_count": 25,
   "id": "developed-charge",
   "metadata": {},
   "outputs": [],
   "source": [
    "from scipy import io\n",
    "import random\n",
    "import matplotlib.pyplot as plt\n",
    "import cv2\n",
    "import numpy as np\n",
    "import os\n",
    "from shutil import copyfile, rmtree "
   ]
  },
  {
   "cell_type": "code",
   "execution_count": 45,
   "id": "empirical-family",
   "metadata": {},
   "outputs": [],
   "source": [
    "path_to_train_mat = 'WiderFacesDataset/wider_face_train.mat'\n",
    "path_to_val_mat = 'WiderFacesDataset/wider_face_val.mat'\n",
    "path_to_all_images = 'WiderFacesDataset/All/'\n",
    "path_to_train_easy_scale_images = 'WiderFacesDataset/EasyScaleImages/Train/'\n",
    "path_to_val_easy_scale_images = 'WiderFacesDataset/EasyScaleImages/Val/'"
   ]
  },
  {
   "cell_type": "code",
   "execution_count": 38,
   "id": "legitimate-nomination",
   "metadata": {},
   "outputs": [],
   "source": [
    "train_mat = io.loadmat(path_to_train_mat)\n",
    "val_mat = io.loadmat(path_to_val_mat)"
   ]
  },
  {
   "cell_type": "code",
   "execution_count": 39,
   "id": "occupied-country",
   "metadata": {},
   "outputs": [],
   "source": [
    "# Names of easy-scale image folder \n",
    "easy_names = ['Gymnastics', 'Handshaking', 'Waiter', 'Conference',\n",
    "                'Worker', 'Parachutist', 'Coach', 'Meeting',\n",
    "                'Aerobics', 'Boat', 'Dancing', 'Swimming', \n",
    "                'Family', 'Balloonist', 'Dresses', 'Couple', \n",
    "                'Jockey', 'Tennis', 'Spa', 'Surgeons']"
   ]
  },
  {
   "cell_type": "code",
   "execution_count": 41,
   "id": "raised-cannon",
   "metadata": {},
   "outputs": [],
   "source": [
    "# Get paths to all easy-scale images\n",
    "def get_easy_scale_images(mat):    \n",
    "    file_list = mat['file_list']\n",
    "    \n",
    "    # Get easy-scale folders number\n",
    "    def get_easy_folders(easy_names=easy_names):\n",
    "        easy_folders = []        \n",
    "        for name in easy_names:\n",
    "            for i in range(0, len(file_list)):\n",
    "                if (name in file_list[i][0][0][0][0]):\n",
    "                    easy_folders.append(i)\n",
    "        return easy_folders\n",
    "    \n",
    "    images = []\n",
    "    easy_folders = get_easy_folders()\n",
    "    for easy_folder in easy_folders:\n",
    "        folder = file_list[easy_folder]\n",
    "        for name in folder[0]:\n",
    "            images.append(name[0][0] + \".jpg\")\n",
    "            \n",
    "    return images"
   ]
  },
  {
   "cell_type": "code",
   "execution_count": 46,
   "id": "perceived-attribute",
   "metadata": {},
   "outputs": [],
   "source": [
    "# Replace easy-scale images to other dirs\n",
    "def separate_easy_scale_part():\n",
    "    \n",
    "    def replace(mat, path):\n",
    "        images_names = get_easy_scale_images(mat)    \n",
    "        for name in images_names:\n",
    "            image_path = path_to_all_images + name\n",
    "            destination_path = path + name\n",
    "            copyfile(image_path, destination_path)\n",
    "\n",
    "    # 1 - Train images\n",
    "    replace(train_mat, path_to_train_easy_scale_images)    \n",
    "    # 2 - Validation images    \n",
    "    replace(val_mat, path_to_val_easy_scale_images)"
   ]
  },
  {
   "cell_type": "code",
   "execution_count": 47,
   "id": "secure-nickel",
   "metadata": {},
   "outputs": [],
   "source": [
    "# separate_easy_scale_part()"
   ]
  },
  {
   "cell_type": "code",
   "execution_count": null,
   "id": "given-appreciation",
   "metadata": {},
   "outputs": [],
   "source": []
  },
  {
   "cell_type": "code",
   "execution_count": null,
   "id": "ultimate-survey",
   "metadata": {},
   "outputs": [],
   "source": []
  }
 ],
 "metadata": {
  "kernelspec": {
   "display_name": "Python 3",
   "language": "python",
   "name": "python3"
  },
  "language_info": {
   "codemirror_mode": {
    "name": "ipython",
    "version": 3
   },
   "file_extension": ".py",
   "mimetype": "text/x-python",
   "name": "python",
   "nbconvert_exporter": "python",
   "pygments_lexer": "ipython3",
   "version": "3.7.9"
  },
  "toc": {
   "base_numbering": 1,
   "nav_menu": {},
   "number_sections": false,
   "sideBar": true,
   "skip_h1_title": false,
   "title_cell": "Table of Contents",
   "title_sidebar": "Contents",
   "toc_cell": false,
   "toc_position": {},
   "toc_section_display": true,
   "toc_window_display": false
  }
 },
 "nbformat": 4,
 "nbformat_minor": 5
}
