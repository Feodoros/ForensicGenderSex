{
 "cells": [
  {
   "cell_type": "markdown",
   "id": "ordinary-damages",
   "metadata": {},
   "source": [
    "# Marking up [WiderFace](http://shuoyang1213.me/WIDERFACE/) dataset by gender"
   ]
  },
  {
   "cell_type": "markdown",
   "id": "adapted-grill",
   "metadata": {},
   "source": [
    "We have all WiderFace **images** and some .mat files with **metadata** of these images. We need to **mark up these images by gender**. We should do these next **steps**: \n",
    "1. **Separate** easy-scale images to individual folder\n",
    "2. **Mark up** these easy-scale images by gender\n",
    "3. **Crop** faces from these images\n",
    "4. **Create** file: face, gender"
   ]
  },
  {
   "cell_type": "code",
   "execution_count": 6,
   "id": "developed-charge",
   "metadata": {},
   "outputs": [],
   "source": [
    "from scipy import io\n",
    "import random\n",
    "import matplotlib.pyplot as plt\n",
    "import cv2\n",
    "import numpy as np\n",
    "import os\n",
    "from shutil import copyfile, rmtree \n",
    "from IPython.display import clear_output"
   ]
  },
  {
   "cell_type": "code",
   "execution_count": 7,
   "id": "empirical-family",
   "metadata": {},
   "outputs": [],
   "source": [
    "path_to_train_mat = 'WiderFacesDataset/wider_face_train.mat'\n",
    "path_to_val_mat = 'WiderFacesDataset/wider_face_val.mat'\n",
    "path_to_all_images = 'WiderFacesDataset/All/'\n",
    "path_to_train_easy_scale_images = 'WiderFacesDataset/EasyScaleImages/Train/'\n",
    "path_to_val_easy_scale_images = 'WiderFacesDataset/EasyScaleImages/Val/'"
   ]
  },
  {
   "cell_type": "code",
   "execution_count": 8,
   "id": "legitimate-nomination",
   "metadata": {},
   "outputs": [],
   "source": [
    "train_mat = io.loadmat(path_to_train_mat)\n",
    "val_mat = io.loadmat(path_to_val_mat)"
   ]
  },
  {
   "cell_type": "code",
   "execution_count": 9,
   "id": "occupied-country",
   "metadata": {},
   "outputs": [],
   "source": [
    "# Names of easy-scale image folder \n",
    "easy_names = ['Gymnastics', 'Handshaking', 'Waiter', 'Conference',\n",
    "                'Worker', 'Parachutist', 'Coach', 'Meeting',\n",
    "                'Aerobics', 'Boat', 'Dancing', 'Swimming', \n",
    "                'Family', 'Balloonist', 'Dresses', 'Couple', \n",
    "                'Jockey', 'Tennis', 'Spa', 'Surgeons']"
   ]
  },
  {
   "cell_type": "markdown",
   "id": "enhanced-inspector",
   "metadata": {},
   "source": [
    "## Separate easy-scale images from all"
   ]
  },
  {
   "cell_type": "code",
   "execution_count": 10,
   "id": "powerful-passage",
   "metadata": {},
   "outputs": [],
   "source": [
    "# Get paths to all easy-scale images\n",
    "def get_easy_scale_images(mat):    \n",
    "    file_list = mat['file_list']\n",
    "    \n",
    "    # Get easy-scale folders number\n",
    "    def get_easy_folders(easy_names=easy_names):\n",
    "        easy_folders = []        \n",
    "        for name in easy_names:\n",
    "            for i in range(0, len(file_list)):\n",
    "                if (name in file_list[i][0][0][0][0]):\n",
    "                    easy_folders.append(i)\n",
    "        return easy_folders\n",
    "    \n",
    "    images = []\n",
    "    easy_folders = get_easy_folders()\n",
    "    for easy_folder in easy_folders:\n",
    "        folder = file_list[easy_folder]\n",
    "        for name in folder[0]:\n",
    "            images.append(name[0][0] + \".jpg\")\n",
    "            \n",
    "    return images"
   ]
  },
  {
   "cell_type": "code",
   "execution_count": 11,
   "id": "perceived-attribute",
   "metadata": {},
   "outputs": [],
   "source": [
    "# Replace easy-scale images to other dirs\n",
    "def separate_easy_scale_part():\n",
    "    \n",
    "    def replace(mat, path):\n",
    "        images_names = get_easy_scale_images(mat)    \n",
    "        for name in images_names:\n",
    "            image_path = path_to_all_images + name\n",
    "            destination_path = path + name\n",
    "            copyfile(image_path, destination_path)\n",
    "\n",
    "    # 1 - Train images\n",
    "    replace(train_mat, path_to_train_easy_scale_images)    \n",
    "    # 2 - Validation images    \n",
    "    replace(val_mat, path_to_val_easy_scale_images)"
   ]
  },
  {
   "cell_type": "code",
   "execution_count": 12,
   "id": "behind-equality",
   "metadata": {},
   "outputs": [],
   "source": [
    "# separate_easy_scale_part()"
   ]
  },
  {
   "cell_type": "code",
   "execution_count": 28,
   "id": "accurate-disco",
   "metadata": {},
   "outputs": [
    {
     "data": {
      "text/plain": [
       "928"
      ]
     },
     "execution_count": 28,
     "metadata": {},
     "output_type": "execute_result"
    }
   ],
   "source": [
    "len(get_easy_scale_images(val_mat))"
   ]
  },
  {
   "cell_type": "code",
   "execution_count": 14,
   "id": "whole-robin",
   "metadata": {},
   "outputs": [],
   "source": [
    "def convert2RGB(img):\n",
    "    return cv2.cvtColor(img, cv2.COLOR_BGR2RGB)"
   ]
  },
  {
   "cell_type": "code",
   "execution_count": 23,
   "id": "floppy-vietnamese",
   "metadata": {},
   "outputs": [],
   "source": [
    "def get_num_of_image(mat, name):\n",
    "    folder_num = -1 \n",
    "    file_num = -1\n",
    "    for folder in mat['file_list']:\n",
    "        folder_num += 1\n",
    "        file_num = -1\n",
    "        for file_name in folder[0]:\n",
    "            file_num += 1\n",
    "            name_ = file_name[0][0]\n",
    "            if (name_ + '.jpg' == name):\n",
    "                print(f\"Folder: {folder_num} \\nFile: {file_num}\")\n",
    "                return folder_num, file_num"
   ]
  },
  {
   "cell_type": "code",
   "execution_count": 25,
   "id": "combined-confidence",
   "metadata": {},
   "outputs": [
    {
     "name": "stdout",
     "output_type": "stream",
     "text": [
      "Folder: 3 \n",
      "File: 25\n"
     ]
    },
    {
     "data": {
      "text/plain": [
       "(3, 25)"
      ]
     },
     "execution_count": 25,
     "metadata": {},
     "output_type": "execute_result"
    }
   ],
   "source": [
    "get_num_of_image(val_mat, '11_Meeting_Meeting_11_Meeting_Meeting_11_349.jpg')"
   ]
  },
  {
   "cell_type": "code",
   "execution_count": 17,
   "id": "radio-cameroon",
   "metadata": {},
   "outputs": [],
   "source": [
    "def get_boxes(mat, folder, file):\n",
    "    return mat['face_bbx_list'][folder][0][file][0]"
   ]
  },
  {
   "cell_type": "code",
   "execution_count": 26,
   "id": "manufactured-trouble",
   "metadata": {},
   "outputs": [
    {
     "data": {
      "text/plain": [
       "array([[190, 177,  74, 117],\n",
       "       [144,  36,  21,  26],\n",
       "       [631,  60,  17,  25],\n",
       "       [668,  46,  16,  21],\n",
       "       [696,  63,  21,  21],\n",
       "       [730,  59,  15,  19],\n",
       "       [607,  53,  17,  15],\n",
       "       [586,  52,  14,  21],\n",
       "       [525,  50,  18,  24],\n",
       "       [475,  50,  14,  18],\n",
       "       [428,  39,  15,  21],\n",
       "       [826,  54,  16,  22],\n",
       "       [856,  56,  15,  17],\n",
       "       [894,  53,  12,  12],\n",
       "       [986,  53,  11,  14]])"
      ]
     },
     "execution_count": 26,
     "metadata": {},
     "output_type": "execute_result"
    }
   ],
   "source": [
    "get_boxes(val_mat, 3, 25)"
   ]
  },
  {
   "cell_type": "code",
   "execution_count": 19,
   "id": "fitted-pixel",
   "metadata": {},
   "outputs": [],
   "source": [
    "def draw_rect(image_name, boxes):\n",
    "    image = cv2.imread(path_to_all_images + image_name)        \n",
    "    for (x, y, w, h) in boxes:        \n",
    "        x1 = round(x - w * 0.25)\n",
    "        y1 = round(y - h * 0.25)\n",
    "        x2 = round(x + w * 1.25)        \n",
    "        y2 = round(y + h * 1.25)\n",
    "        \n",
    "        img_copy = np.copy(image)\n",
    "        cv2.rectangle(img_copy,(x1, y1), (x2, y2), (0, 255, 0), 2)\n",
    "        crop_image = image[y1:y2, x1:x2] \n",
    "        \n",
    "        fig=plt.figure(figsize=(15, 15))\n",
    "        fig.add_subplot(1, 2, 1)\n",
    "        plt.imshow(convert2RGB(img_copy))\n",
    "        plt.axis('off')\n",
    "        plt.tight_layout()\n",
    "\n",
    "        fig.add_subplot(1, 2, 2)\n",
    "        plt.imshow(convert2RGB(crop_image))\n",
    "        plt.axis('off')\n",
    "        plt.tight_layout()\n",
    "\n",
    "        plt.show(block=False)\n",
    "        \n",
    "        sex = input()\n",
    "        clear_output()"
   ]
  },
  {
   "cell_type": "code",
   "execution_count": 27,
   "id": "binding-discharge",
   "metadata": {},
   "outputs": [],
   "source": [
    "draw_rect('11_Meeting_Meeting_11_Meeting_Meeting_11_349.jpg', get_boxes(val_mat, 3, 25))"
   ]
  },
  {
   "cell_type": "code",
   "execution_count": null,
   "id": "transparent-seven",
   "metadata": {},
   "outputs": [],
   "source": []
  },
  {
   "cell_type": "code",
   "execution_count": null,
   "id": "desperate-pollution",
   "metadata": {},
   "outputs": [],
   "source": []
  },
  {
   "cell_type": "code",
   "execution_count": null,
   "id": "generic-utilization",
   "metadata": {},
   "outputs": [],
   "source": []
  },
  {
   "cell_type": "code",
   "execution_count": null,
   "id": "underlying-deployment",
   "metadata": {},
   "outputs": [],
   "source": []
  },
  {
   "cell_type": "code",
   "execution_count": null,
   "id": "coordinate-maria",
   "metadata": {},
   "outputs": [],
   "source": []
  },
  {
   "cell_type": "code",
   "execution_count": null,
   "id": "humanitarian-cooperative",
   "metadata": {},
   "outputs": [],
   "source": []
  },
  {
   "cell_type": "code",
   "execution_count": null,
   "id": "coordinated-music",
   "metadata": {},
   "outputs": [],
   "source": []
  },
  {
   "cell_type": "code",
   "execution_count": null,
   "id": "impressed-indie",
   "metadata": {},
   "outputs": [],
   "source": []
  },
  {
   "cell_type": "code",
   "execution_count": null,
   "id": "greenhouse-filename",
   "metadata": {},
   "outputs": [],
   "source": []
  },
  {
   "cell_type": "code",
   "execution_count": null,
   "id": "complex-oxide",
   "metadata": {},
   "outputs": [],
   "source": []
  }
 ],
 "metadata": {
  "kernelspec": {
   "display_name": "Python 3",
   "language": "python",
   "name": "python3"
  },
  "language_info": {
   "codemirror_mode": {
    "name": "ipython",
    "version": 3
   },
   "file_extension": ".py",
   "mimetype": "text/x-python",
   "name": "python",
   "nbconvert_exporter": "python",
   "pygments_lexer": "ipython3",
   "version": "3.7.9"
  },
  "toc": {
   "base_numbering": 1,
   "nav_menu": {},
   "number_sections": false,
   "sideBar": true,
   "skip_h1_title": false,
   "title_cell": "Table of Contents",
   "title_sidebar": "Contents",
   "toc_cell": false,
   "toc_position": {},
   "toc_section_display": true,
   "toc_window_display": false
  }
 },
 "nbformat": 4,
 "nbformat_minor": 5
}
