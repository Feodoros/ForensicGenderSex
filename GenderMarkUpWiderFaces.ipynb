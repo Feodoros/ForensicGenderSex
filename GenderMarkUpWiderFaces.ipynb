{
 "cells": [
  {
   "cell_type": "markdown",
   "id": "ordinary-damages",
   "metadata": {},
   "source": [
    "# Marking up [WiderFace](http://shuoyang1213.me/WIDERFACE/) dataset by gender"
   ]
  },
  {
   "cell_type": "markdown",
   "id": "adapted-grill",
   "metadata": {},
   "source": [
    "We have all WiderFace **images** and some .mat files with **metadata** of these images. We need to **mark up these images by gender**. We should do these next **steps**: \n",
    "1. **Separate** easy-scale images to individual folder\n",
    "2. **Mark up** these easy-scale images by gender\n",
    "3. **Crop** faces from these images\n",
    "4. **Create** file: face, gender"
   ]
  },
  {
   "cell_type": "code",
   "execution_count": null,
   "id": "developed-charge",
   "metadata": {},
   "outputs": [],
   "source": []
  }
 ],
 "metadata": {
  "kernelspec": {
   "display_name": "Python 3",
   "language": "python",
   "name": "python3"
  },
  "toc": {
   "base_numbering": 1,
   "nav_menu": {},
   "number_sections": false,
   "sideBar": true,
   "skip_h1_title": false,
   "title_cell": "Table of Contents",
   "title_sidebar": "Contents",
   "toc_cell": false,
   "toc_position": {},
   "toc_section_display": true,
   "toc_window_display": false
  }
 },
 "nbformat": 4,
 "nbformat_minor": 5
}
