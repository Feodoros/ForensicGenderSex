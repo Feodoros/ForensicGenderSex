{
 "cells": [
  {
   "cell_type": "markdown",
   "id": "ordinary-damages",
   "metadata": {},
   "source": [
    "# Marking up [WiderFace](http://shuoyang1213.me/WIDERFACE/) dataset by gender"
   ]
  },
  {
   "cell_type": "markdown",
   "id": "adapted-grill",
   "metadata": {},
   "source": [
    "We have all WiderFace **images** and some .mat files with **metadata** of these images. We need to **mark up these images by gender**. We should do these next **steps**: \n",
    "1. **Separate** easy-scale images to individual folder\n",
    "2. **Mark up** these easy-scale images by gender\n",
    "3. **Crop** faces from these images\n",
    "4. **Create** file: face, gender"
   ]
  },
  {
   "cell_type": "code",
   "execution_count": 5,
   "id": "developed-charge",
   "metadata": {},
   "outputs": [],
   "source": [
    "from scipy import io\n",
    "import random\n",
    "import matplotlib.pyplot as plt\n",
    "import cv2\n",
    "import numpy as np\n",
    "import os\n",
    "from shutil import copyfile, rmtree \n",
    "from IPython.display import clear_output\n",
    "import pandas as pd \n",
    "import ast"
   ]
  },
  {
   "cell_type": "code",
   "execution_count": 76,
   "id": "empirical-family",
   "metadata": {},
   "outputs": [],
   "source": [
    "path_to_train_mat = 'WiderFacesDataset/wider_face_train.mat'\n",
    "path_to_val_mat = 'WiderFacesDataset/wider_face_val.mat'\n",
    "path_to_all_images = 'WiderFacesDataset/All/'\n",
    "path_to_train_easy_scale_images = 'WiderFacesDataset/EasyScaleImages/Train/'\n",
    "path_to_val_easy_scale_images = 'WiderFacesDataset/EasyScaleImages/Val/'\n",
    "path_to_gender_marks = 'WiderFacesDataset/EasyScaleMarkedUpGender/'\n",
    "path_to_crop_faces = 'WiderFacesDataset/EasyScaleCropFaces/'\n",
    "male_dir = 'WiderFacesDataset/root/1/'\n",
    "female_dir = 'WiderFacesDataset/root/0/'\n",
    "path_to_test_dataset = 'TestDataset/RawData/'\n",
    "path_to_test_txt_files = 'TestDataset/TextFiles/'\n",
    "path_to_test_marks_files = 'TestDataset/Marks/'\n",
    "male_test_dir = 'TestDataset/CroppedFaces/1/'\n",
    "female_test_dir = 'TestDataset/CroppedFaces/0/'"
   ]
  },
  {
   "cell_type": "code",
   "execution_count": 38,
   "id": "legitimate-nomination",
   "metadata": {},
   "outputs": [],
   "source": [
    "train_mat = io.loadmat(path_to_train_mat)\n",
    "val_mat = io.loadmat(path_to_val_mat)"
   ]
  },
  {
   "cell_type": "code",
   "execution_count": 39,
   "id": "occupied-country",
   "metadata": {},
   "outputs": [],
   "source": [
    "# Names of easy-scale image folder \n",
    "easy_names = ['Gymnastics', 'Handshaking', 'Waiter', 'Conference',\n",
    "                'Worker', 'Parachutist', 'Coach', 'Meeting',\n",
    "                'Aerobics', 'Boat', 'Dancing', 'Swimming', \n",
    "                'Family', 'Balloonist', 'Dresses', 'Couple', \n",
    "                'Jockey', 'Tennis', 'Spa', 'Surgeons']"
   ]
  },
  {
   "cell_type": "markdown",
   "id": "enhanced-inspector",
   "metadata": {},
   "source": [
    "## Separate easy-scale images from all"
   ]
  },
  {
   "cell_type": "code",
   "execution_count": 5,
   "id": "powerful-passage",
   "metadata": {},
   "outputs": [],
   "source": [
    "# Get paths to all easy-scale images\n",
    "def get_easy_scale_images(mat):    \n",
    "    file_list = mat['file_list']\n",
    "    \n",
    "    # Get easy-scale folders number\n",
    "    def get_easy_folders(easy_names=easy_names):\n",
    "        easy_folders = []        \n",
    "        for name in easy_names:\n",
    "            for i in range(0, len(file_list)):\n",
    "                if (name in file_list[i][0][0][0][0]):\n",
    "                    easy_folders.append(i)\n",
    "        return easy_folders\n",
    "    \n",
    "    images = []\n",
    "    easy_folders = get_easy_folders()\n",
    "    for easy_folder in easy_folders:\n",
    "        folder = file_list[easy_folder]\n",
    "        for name in folder[0]:\n",
    "            images.append(name[0][0] + \".jpg\")\n",
    "            \n",
    "    return images"
   ]
  },
  {
   "cell_type": "code",
   "execution_count": 6,
   "id": "perceived-attribute",
   "metadata": {},
   "outputs": [],
   "source": [
    "# Replace easy-scale images to other dirs\n",
    "def separate_easy_scale_part():\n",
    "    \n",
    "    def replace(mat, path):\n",
    "        images_names = get_easy_scale_images(mat)    \n",
    "        for name in images_names:\n",
    "            image_path = path_to_all_images + name\n",
    "            destination_path = path + name\n",
    "            copyfile(image_path, destination_path)\n",
    "\n",
    "    # 1 - Train images\n",
    "    replace(train_mat, path_to_train_easy_scale_images)    \n",
    "    # 2 - Validation images    \n",
    "    replace(val_mat, path_to_val_easy_scale_images)"
   ]
  },
  {
   "cell_type": "code",
   "execution_count": 7,
   "id": "behind-equality",
   "metadata": {},
   "outputs": [],
   "source": [
    "# separate_easy_scale_part()"
   ]
  },
  {
   "cell_type": "markdown",
   "id": "suffering-princeton",
   "metadata": {},
   "source": [
    "## Mark up dataset"
   ]
  },
  {
   "cell_type": "code",
   "execution_count": 44,
   "id": "fitted-pixel",
   "metadata": {},
   "outputs": [],
   "source": [
    "def mark_up_one_image(image_name, boxes):\n",
    "    \"\"\"\n",
    "    Mark-up dataset:\n",
    "    1) Show face and set gender mark\n",
    "    2) Write file with all faces from image and marks\n",
    "    \"\"\"    \n",
    "    split_name = image_name.split('.')[0]\n",
    "    sexs = []\n",
    "    coords = []\n",
    "    crop_face_names = []    \n",
    "    i = 0\n",
    "    image = cv2.imread(path_to_test_dataset + image_name) \n",
    "    height, width = image.shape[:2]    \n",
    "    for (x, y, w, h) in boxes:        \n",
    "        x1 = max(round(x - w * 0.25), 0)\n",
    "        y1 = max(round(y - h * 0.25), 0)\n",
    "        x2 = min(round(x + w * 1.25), width)        \n",
    "        y2 = min(round(y + h * 1.25), height)\n",
    "       \n",
    "        img_copy = np.copy(image)\n",
    "        cv2.rectangle(img_copy,(x1, y1), (x2, y2), (0, 255, 0), 2)\n",
    "        crop_image = image[y1:y2, x1:x2] \n",
    "\n",
    "        display_faces(img_copy, crop_image)\n",
    "\n",
    "        input_sex = input()\n",
    "        # break\n",
    "        if input_sex == '-1':            \n",
    "            return -1\n",
    "        # skip image\n",
    "        if input_sex == 'skip':\n",
    "            data = pd.DataFrame(\n",
    "            {\n",
    "                \"Sex\": sexs,\n",
    "                \"Coords\": coords,\n",
    "                \"FaceName\": crop_face_names,\n",
    "            })\n",
    "            data.to_pickle(path_to_test_marks_files + split_name + \".pkl\")\n",
    "            return 0\n",
    "        \n",
    "        sex = digit2gender(input_sex)\n",
    "\n",
    "        sexs.append(sex)\n",
    "        coords.append([x1, y1, x2, y2])\n",
    "        crop_face_names.append(f'{split_name}_{i}.jpg')\n",
    " \n",
    "        i += 1\n",
    "        clear_output()\n",
    "        \n",
    "    data = pd.DataFrame(\n",
    "        {\n",
    "            \"Sex\": sexs,\n",
    "            \"Coords\": coords,\n",
    "            \"FaceName\": crop_face_names,\n",
    "        }\n",
    "    )\n",
    "    data.to_pickle(path_to_test_marks_files + split_name + \".pkl\")\n",
    "    return 1"
   ]
  },
  {
   "cell_type": "code",
   "execution_count": 45,
   "id": "trying-particle",
   "metadata": {},
   "outputs": [],
   "source": [
    "def mark_up_dataset(mat : dict):\n",
    "    start_point = len(os.listdir(path_to_gender_marks + '/train/'))\n",
    "    images = get_easy_scale_images(mat)\n",
    "    for i in range(start_point, len(images)):\n",
    "        print(f'{i}/{len(images)}')\n",
    "        print(images[i])\n",
    "        folder, file = get_nums_of_image(mat, images[i])\n",
    "        boxes = get_boxes(mat, folder, file)\n",
    "        try:\n",
    "            res = mark_up_one_image(images[i], boxes)\n",
    "            if res == 0:\n",
    "                continue\n",
    "            if res == -1:\n",
    "                print('Break')\n",
    "                break\n",
    "        except Exception:\n",
    "            print(f'Processing image {images[i]} failed with {Exception}')"
   ]
  },
  {
   "cell_type": "code",
   "execution_count": 46,
   "id": "educated-fabric",
   "metadata": {},
   "outputs": [],
   "source": [
    "def mark_up_test_data():\n",
    "    files = os.listdir(path_to_test_txt_files)\n",
    "    for file in files:\n",
    "        path_to_file = path_to_test_txt_files + file\n",
    "        with open(path_to_file) as f:\n",
    "            lines = list(map(lambda x: x.replace('\\n', ''), f.readlines()))\n",
    "            image_name = lines[0]\n",
    "            boxes = list(map(lambda x: ast.literal_eval(x), lines[1:]))\n",
    "            res = mark_up_one_image(image_name, boxes)\n",
    "            if res == 0:\n",
    "                continue\n",
    "            if res == -1:\n",
    "                print('Break')\n",
    "                break"
   ]
  },
  {
   "cell_type": "code",
   "execution_count": 73,
   "id": "structured-opposition",
   "metadata": {},
   "outputs": [],
   "source": [
    "# mark_up_test_data()"
   ]
  },
  {
   "cell_type": "code",
   "execution_count": 17,
   "id": "listed-variable",
   "metadata": {
    "scrolled": false
   },
   "outputs": [],
   "source": [
    "# mark_up_dataset(train_mat)"
   ]
  },
  {
   "cell_type": "markdown",
   "id": "settled-interview",
   "metadata": {},
   "source": [
    "## Build dataset (crop faces, create .csv and other files) "
   ]
  },
  {
   "cell_type": "code",
   "execution_count": 48,
   "id": "running-english",
   "metadata": {},
   "outputs": [],
   "source": [
    "def print_stats(): \n",
    "    males = 0\n",
    "    females = 0\n",
    "    path_to_all_marks = path_to_test_marks_files\n",
    "    for name in os.listdir(path_to_all_marks):\n",
    "        df = pd.read_pickle(path_to_all_marks + name)\n",
    "        for sex in df['Sex']:\n",
    "            if sex == 'm':\n",
    "                males += 1\n",
    "            if sex == 'f':\n",
    "                females += 1\n",
    "    print(f'Males: {males}\\nFemales: {females}')"
   ]
  },
  {
   "cell_type": "code",
   "execution_count": 51,
   "id": "super-temperature",
   "metadata": {},
   "outputs": [],
   "source": [
    "# print_stats()"
   ]
  },
  {
   "cell_type": "code",
   "execution_count": 69,
   "id": "smaller-letter",
   "metadata": {},
   "outputs": [],
   "source": [
    "def crop_faces():\n",
    "    path_to_all_marks = path_to_test_marks_files\n",
    "    pkl_files = os.listdir(path_to_all_marks) \n",
    "    i = 0\n",
    "    for file in pkl_files:\n",
    "        df = pd.read_pickle(path_to_all_marks + file)\n",
    "        image_path = path_to_test_dataset + file.split('.')[0] + '.jpg'      \n",
    "        image = cv2.imread(image_path)\n",
    "        if (image is None):\n",
    "            image_path = path_to_test_dataset + file.split('.')[0] + '.jpeg'      \n",
    "            image = cv2.imread(image_path)\n",
    "        if (image is None):\n",
    "            image_path = path_to_test_dataset + file.split('.')[0] + '.png'      \n",
    "            image = cv2.imread(image_path)\n",
    "        print(image_path)\n",
    "        for index, item in df.iterrows():\n",
    "            x, y, w, h = item['Coords']\n",
    "            sex = item['Sex']  \n",
    "            if sex == 'skip':\n",
    "                continue\n",
    "            new_image_path = str(f'TestDataset/CropFaces/{i}_{sex}.jpg')\n",
    "            crop_image = image[y:h, x:w] \n",
    "            cv2.imwrite(new_image_path, crop_image)\n",
    "            i += 1"
   ]
  },
  {
   "cell_type": "code",
   "execution_count": 72,
   "id": "forbidden-affiliate",
   "metadata": {},
   "outputs": [],
   "source": [
    "# crop_faces()"
   ]
  },
  {
   "cell_type": "code",
   "execution_count": 74,
   "id": "activated-scheduling",
   "metadata": {},
   "outputs": [],
   "source": [
    "def separate_gender():\n",
    "    names = os.listdir('TestDataset/CropFaces/')\n",
    "    for name in names:\n",
    "        src = 'TestDataset/CropFaces/' + name\n",
    "        gender = name.split('_')[1].split('.')[0]\n",
    "        if  gender == 'f':\n",
    "            dst = 'TestDataset/root/0/' + name\n",
    "        if  gender == 'm':\n",
    "            dst = 'TestDataset/root/1/' + name\n",
    "        os.rename(src, dst)                    "
   ]
  },
  {
   "cell_type": "code",
   "execution_count": 75,
   "id": "studied-diagnosis",
   "metadata": {},
   "outputs": [],
   "source": [
    "separate_gender()"
   ]
  },
  {
   "cell_type": "markdown",
   "id": "romantic-tuning",
   "metadata": {},
   "source": [
    "## Helpers"
   ]
  },
  {
   "cell_type": "code",
   "execution_count": 7,
   "id": "whole-robin",
   "metadata": {},
   "outputs": [],
   "source": [
    "def convert2RGB(img):\n",
    "    return cv2.cvtColor(img, cv2.COLOR_BGR2RGB)"
   ]
  },
  {
   "cell_type": "code",
   "execution_count": 8,
   "id": "radio-cameroon",
   "metadata": {},
   "outputs": [],
   "source": [
    "def get_boxes(mat, folder, file):\n",
    "    return mat['face_bbx_list'][folder][0][file][0]"
   ]
  },
  {
   "cell_type": "code",
   "execution_count": 9,
   "id": "correct-brass",
   "metadata": {},
   "outputs": [],
   "source": [
    "def display_faces(img_copy, crop_image):\n",
    "    fig=plt.figure(figsize=(15, 15))\n",
    "    fig.add_subplot(1, 2, 1)\n",
    "    plt.imshow(convert2RGB(img_copy))\n",
    "    plt.axis('off')\n",
    "    plt.tight_layout()\n",
    "\n",
    "    fig.add_subplot(1, 2, 2)\n",
    "    plt.imshow(convert2RGB(crop_image))\n",
    "    plt.axis('off')\n",
    "    plt.tight_layout()\n",
    "\n",
    "    plt.show(block=False)"
   ]
  },
  {
   "cell_type": "code",
   "execution_count": 10,
   "id": "coordinated-music",
   "metadata": {},
   "outputs": [],
   "source": [
    "def digit2gender(digit_char):\n",
    "    try:\n",
    "        digit = int(digit_char)\n",
    "    except:\n",
    "        digit = 0 \n",
    "    if digit == 2:\n",
    "        return 'f'\n",
    "    if digit == 1:\n",
    "        return 'm'\n",
    "    else:\n",
    "        return 'skip'"
   ]
  },
  {
   "cell_type": "code",
   "execution_count": 11,
   "id": "coordinate-maria",
   "metadata": {},
   "outputs": [],
   "source": [
    "def gender2digit(gender):    \n",
    "    if gender == '':\n",
    "        return -1    \n",
    "\n",
    "    clean_gender = gender.lower().strip()[0]\n",
    "    if clean_gender == 'm':\n",
    "        return 1\n",
    "    if clean_gender == 'f':\n",
    "        return 2\n",
    "    else:\n",
    "        return -1        "
   ]
  },
  {
   "cell_type": "code",
   "execution_count": 12,
   "id": "floppy-vietnamese",
   "metadata": {},
   "outputs": [],
   "source": [
    "def get_nums_of_image(mat, name):\n",
    "    folder_num = -1 \n",
    "    file_num = -1\n",
    "    for folder in mat['file_list']:\n",
    "        folder_num += 1\n",
    "        file_num = -1\n",
    "        for file_name in folder[0]:\n",
    "            file_num += 1\n",
    "            name_ = file_name[0][0]\n",
    "            if (name_ + '.jpg' == name):\n",
    "                # print(f\"Folder: {folder_num} \\nFile: {file_num}\")\n",
    "                return folder_num, file_num"
   ]
  },
  {
   "cell_type": "code",
   "execution_count": null,
   "id": "optimum-flooring",
   "metadata": {},
   "outputs": [],
   "source": []
  }
 ],
 "metadata": {
  "kernelspec": {
   "display_name": "Python 3",
   "language": "python",
   "name": "python3"
  },
  "language_info": {
   "codemirror_mode": {
    "name": "ipython",
    "version": 3
   },
   "file_extension": ".py",
   "mimetype": "text/x-python",
   "name": "python",
   "nbconvert_exporter": "python",
   "pygments_lexer": "ipython3",
   "version": "3.7.9"
  },
  "toc": {
   "base_numbering": 1,
   "nav_menu": {},
   "number_sections": false,
   "sideBar": true,
   "skip_h1_title": false,
   "title_cell": "Table of Contents",
   "title_sidebar": "Contents",
   "toc_cell": false,
   "toc_position": {
    "height": "calc(100% - 180px)",
    "left": "10px",
    "top": "150px",
    "width": "310.167px"
   },
   "toc_section_display": true,
   "toc_window_display": true
  }
 },
 "nbformat": 4,
 "nbformat_minor": 5
}
